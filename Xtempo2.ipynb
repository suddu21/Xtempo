{
 "cells": [
  {
   "cell_type": "code",
   "execution_count": null,
   "metadata": {
    "hide_input": false,
    "tags": [
     "hide-input"
    ]
   },
   "outputs": [],
   "source": [
    "from playsound import playsound\n",
    "import random\n",
    "import threading\n",
    "random.seed()\n",
    "participants = [\"Siddharth\",\"Sadanand Venkataraman\",\"Arun Joseph\",\"Hitanshee Pal\",\"Sudhanshu Shekhar Jha\",\"Ankit bhaskar\",\"Soham Vaidya\",\"Pavithra N\",\"Sukanksha\",\"Dinu K\",\"Mohammed Sinan Khan\",\"Rtwick George Moses \",\"Anuksha\"]\n",
    "topics= [\"AI and the future of mankind\",\"Rapid Urbanization\",\"Impact of COVID – 19\",\"What will you eradicate from India, if given a chance?\",\"Hard work Vs. Smart work\",\"Indian Education system\",\"Life of Soldiers\",\"Procrastination and its effects on everyday life\",\"Importance of time management\",\"Importance of freedom of speech\",\"Digital divide\", \"Unemployment in India\",\"Biggest concern for the future\"]\n",
    "pleft=len(participants)\n",
    "tleft=len(topics)\n",
    "print(pleft)\n",
    "print(tleft)"
   ]
  },
  {
   "cell_type": "code",
   "execution_count": null,
   "metadata": {
    "hide_input": false
   },
   "outputs": [],
   "source": [
    "p=random.randrange(0,pleft)\n",
    "t=random.randrange(0,tleft)\n",
    "print(\"Current participant is \",participants[p],\" and topic is \",topics[t])\n",
    "print()\n",
    "participants.pop(p)\n",
    "topics.pop(t)\n",
    "pleft-=1\n",
    "tleft-=1\n",
    "print(len(participants),\" participants left\")"
   ]
  },
  {
   "cell_type": "code",
   "execution_count": null,
   "metadata": {},
   "outputs": [],
   "source": [
    "def first():\n",
    "\t\tplaysound('C:\\\\Users\\\\sudha\\\\OneDrive\\\\Desktop\\\\Xtempo\\\\beep-11.mp3')\n",
    "\t\tprint(\"Preparation time complete\")\n",
    "timer1=threading.Timer(3.0, first)# 2 minute prep timer- set to 120secs\n",
    "timer1.start()"
   ]
  },
  {
   "cell_type": "code",
   "execution_count": null,
   "metadata": {},
   "outputs": [],
   "source": [
    "def final():\n",
    "\t\tplaysound('C:\\\\Users\\\\sudha\\\\OneDrive\\\\Desktop\\\\Xtempo\\\\beep-11.mp3')\n",
    "\t\tprint(\"Time up!\")\n",
    "timer3=threading.Timer(90.0,final)# Speech timer- set to speech time limit, 90 secs\n",
    "timer3.start()\n",
    "def second():\n",
    "    playsound('C:\\\\Users\\\\sudha\\\\OneDrive\\\\Desktop\\\\Xtempo\\\\beep-01a.mp3')\n",
    "    print(\"30 seconds left\")\n",
    "timer2=threading.Timer(60.0,second)# 30 secs left timer- set to speech time-60 secs\n",
    "timer2.start()"
   ]
  },
  {
   "cell_type": "code",
   "execution_count": null,
   "metadata": {},
   "outputs": [],
   "source": []
  }
 ],
 "metadata": {
  "kernelspec": {
   "display_name": "Python 3",
   "language": "python",
   "name": "python3"
  },
  "language_info": {
   "codemirror_mode": {
    "name": "ipython",
    "version": 3
   },
   "file_extension": ".py",
   "mimetype": "text/x-python",
   "name": "python",
   "nbconvert_exporter": "python",
   "pygments_lexer": "ipython3",
   "version": "3.6.12"
  }
 },
 "nbformat": 4,
 "nbformat_minor": 4
}
